{
 "cells": [
  {
   "cell_type": "markdown",
   "metadata": {
    "id": "jIGY1rzfMV8A"
   },
   "source": [
    "### Visualization example"
   ]
  },
  {
   "cell_type": "code",
   "source": [
    "# from google.colab import drive\n",
    "# drive.mount('/content/drive')"
   ],
   "metadata": {
    "id": "dDXFuQVAMXeQ",
    "is_executing": true
   },
   "execution_count": null,
   "outputs": []
  },
  {
   "cell_type": "code",
   "source": [
    "%pip install nilearn"
   ],
   "metadata": {
    "id": "qvQO3GSRMfyf"
   },
   "execution_count": null,
   "outputs": []
  },
  {
   "cell_type": "code",
   "execution_count": null,
   "outputs": [],
   "source": [
    "import sys\n",
    "sys.executable"
   ],
   "metadata": {
    "collapsed": false,
    "is_executing": true
   }
  },
  {
   "cell_type": "code",
   "execution_count": null,
   "metadata": {
    "ExecuteTime": {
     "end_time": "2023-11-01T13:08:28.828099400Z",
     "start_time": "2023-11-01T13:08:24.609097800Z"
    },
    "id": "mK3nm8H8MV8D"
   },
   "outputs": [],
   "source": [
    "import os\n",
    "import numpy as np\n",
    "from pathlib import Path\n",
    "from PIL import Image\n",
    "import matplotlib\n",
    "from matplotlib import pyplot as plt\n",
    "from nilearn import datasets\n",
    "from nilearn import plotting"
   ]
  },
  {
   "cell_type": "code",
   "execution_count": null,
   "metadata": {
    "id": "ec943eGLMV8E"
   },
   "outputs": [],
   "source": [
    "data_dir = \"/content/drive/MyDrive/Google Drive - Code/NTHU/Final project/data\""
   ]
  },
  {
   "cell_type": "code",
   "execution_count": null,
   "metadata": {
    "id": "J4w4BGGhMV8F"
   },
   "outputs": [],
   "source": [
    "subj = 'subj01'"
   ]
  },
  {
   "cell_type": "code",
   "execution_count": null,
   "metadata": {
    "id": "5J7UtlvHMV8F"
   },
   "outputs": [],
   "source": [
    "hemisphere = 'left' # left/right\n",
    "\n",
    "roi_dir = os.path.join(data_dir, subj, 'roi_masks', hemisphere[0] + 'h.all-vertices_fsaverage_space.npy')\n",
    "fsaverage_all_vertices = np.load(roi_dir)\n",
    "\n",
    "fsaverage = datasets.fetch_surf_fsaverage('fsaverage')\n",
    "\n",
    "# 3D:infl_right / infl_left, 2D:flat_right / flat_left\n",
    "view = plotting.view_surf(\n",
    "    surf_mesh = fsaverage['infl_' + hemisphere],\n",
    "    surf_map = fsaverage_all_vertices,\n",
    "    bg_map = fsaverage['sulc_' + hemisphere],\n",
    "    threshold=1e-14, cmap='cool', colorbar=False,\n",
    "    title=f'All fsaverage vertices, {hemisphere} hemisphere')\n",
    "\n",
    "view"
   ]
  }
 ],
 "metadata": {
  "kernelspec": {
   "display_name": "scaling_vis_enc",
   "language": "python",
   "name": "python3"
  },
  "language_info": {
   "codemirror_mode": {
    "name": "ipython",
    "version": 3
   },
   "file_extension": ".py",
   "mimetype": "text/x-python",
   "name": "python",
   "nbconvert_exporter": "python",
   "pygments_lexer": "ipython3",
   "version": "3.8.0"
  },
  "colab": {
   "provenance": []
  }
 },
 "nbformat": 4,
 "nbformat_minor": 0
}
